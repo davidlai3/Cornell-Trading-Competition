{
 "cells": [
  {
   "cell_type": "code",
   "execution_count": null,
   "metadata": {},
   "outputs": [],
   "source": [
    "import pandas as pd\n",
    "import matplotlib as plt\n",
    "import matplotlib.pyplot as plt\n",
    "import random\n",
    "from datetime import datetime, timedelta"
   ]
  },
  {
   "cell_type": "markdown",
   "metadata": {},
   "source": [
    "# Cryptocurrency Case Study Backtester"
   ]
  },
  {
   "cell_type": "code",
   "execution_count": null,
   "metadata": {},
   "outputs": [],
   "source": [
    "#importing data !\n",
    "b1 = pd.read_csv('./CTC23_Blockchain_Data/BTC_Futures1.csv')\n",
    "b2 = pd.read_csv('./CTC23_Blockchain_Data/BTC_Futures2.csv')\n",
    "b3 = pd.read_csv('./CTC23_Blockchain_Data/BTC_Futures3.csv')\n",
    "b4 = pd.read_csv('./CTC23_Blockchain_Data/BTC_Futures4.csv')\n",
    "b5 = pd.read_csv('./CTC23_Blockchain_Data/BTC_Futures5.csv')\n",
    "b6 = pd.read_csv('./CTC23_Blockchain_Data/BTC_Futures6.csv')\n",
    "b7 = pd.read_csv('./CTC23_Blockchain_Data/BTC_Futures7.csv')\n",
    "b8 = pd.read_csv('./CTC23_Blockchain_Data/BTC_Futures8.csv')\n",
    "b9 = pd.read_csv('./CTC23_Blockchain_Data/BTC_Futures9.csv')\n",
    "b10 = pd.read_csv('./CTC23_Blockchain_Data/BTC_Futures10.csv')\n",
    "b11 = pd.read_csv('./CTC23_Blockchain_Data/BTC_Futures11.csv')\n",
    "b12 = pd.read_csv('./CTC23_Blockchain_Data/BTC_Futures12.csv')\n",
    "b13 = pd.read_csv('./CTC23_Blockchain_Data/BTC_Futures13.csv')\n",
    "b14 = pd.read_csv('./CTC23_Blockchain_Data/BTC_Futures14.csv')\n",
    "b15 = pd.read_csv('./CTC23_Blockchain_Data/BTC_Futures15.csv')\n",
    "b16 = pd.read_csv('./CTC23_Blockchain_Data/BTC_Futures16.csv')\n",
    "b17 = pd.read_csv('./CTC23_Blockchain_Data/BTC_Futures17.csv')\n",
    "b18 = pd.read_csv('./CTC23_Blockchain_Data/BTC_Futures18.csv')\n",
    "b19 = pd.read_csv('./CTC23_Blockchain_Data/BTC_Futures19.csv')\n",
    "b20 = pd.read_csv('./CTC23_Blockchain_Data/BTC_Futures20.csv')\n",
    "b21 = pd.read_csv('./CTC23_Blockchain_Data/BTC_Futures21.csv')\n",
    "b22 = pd.read_csv('./CTC23_Blockchain_Data/BTC_Futures22.csv')\n",
    "b23 = pd.read_csv('./CTC23_Blockchain_Data/BTC_Futures23.csv')\n",
    "b24 = pd.read_csv('./CTC23_Blockchain_Data/BTC_Futures24.csv')"
   ]
  },
  {
   "cell_type": "code",
   "execution_count": null,
   "metadata": {},
   "outputs": [],
   "source": [
    "all = [b1, b2, b3, b4, b5, b6, b7, b8, b9, b10, b11, b12, b13, b14, b15, b16, b17, b18, b19, b20, b21, b22, b23, b24]\n",
    "data = pd.concat(all)\n",
    "\n",
    "#FOR COMPETITORS: Don't forget to convert the first column to a datetime object"
   ]
  },
  {
   "cell_type": "code",
   "execution_count": null,
   "metadata": {},
   "outputs": [],
   "source": [
    "#add your positions here\n",
    "\n",
    "#positions = pd.DataFrame({\n",
    "#    \"DATETIME\": ts_recv, \n",
    "#    \"POSITION\": positions})"
   ]
  },
  {
   "cell_type": "code",
   "execution_count": null,
   "metadata": {},
   "outputs": [],
   "source": [
    "'''\n",
    "Given a dataframe of positions check that the dates and positions are valid.\n",
    "'''\n",
    "\n",
    "def check_crypto_output(marketdata, positions):\n",
    "    # check if positions is a dataframe\n",
    "    assert isinstance(positions, pd.DataFrame), \"positions should be a dataframe\"\n",
    "    assert \"DATETIME\" in positions.columns, \"positions dataframe does not have 'DATETIME' column, please read naming specifications\"\n",
    "    \n",
    "    # check whether every value in 'DATETIME' is a datetime object\n",
    "    assert positions['DATETIME'].apply(lambda x: isinstance(x, pd.Timestamp)).all(), \"every element in 'DATETIME' column of positions should be a datetime object\"\n",
    "\n",
    "    # check if right number of dates, and that they are equal\n",
    "    assert marketdata['ts_recv'].equals(positions['DATETIME']), \"the 'DATETIME' column of positions should match 'ts_recv' of marketdata column\"\n",
    "    \n",
    "    # check if all outputs are valid\n",
    "    assert all(positions['POSITION'].isin([-1, 0, 1])), \"all values in 'DATETIME' column need to be either -1, 0 or 1\""
   ]
  },
  {
   "cell_type": "code",
   "execution_count": null,
   "metadata": {},
   "outputs": [],
   "source": [
    "check_crypto_output(data, positions)"
   ]
  },
  {
   "cell_type": "code",
   "execution_count": null,
   "metadata": {},
   "outputs": [],
   "source": [
    "positions"
   ]
  },
  {
   "cell_type": "code",
   "execution_count": null,
   "metadata": {},
   "outputs": [],
   "source": [
    "'''\n",
    "Overview: given a list of positions use provided market data to find the \n",
    "overall pnl.\n",
    "'''\n",
    "\n",
    "def backtest(marketdata: pd.DataFrame, positions: pd.DataFrame, y_list) -> None:\n",
    "   check_crypto_output(marketdata, positions)\n",
    "   return check_pnl(marketdata, positions, y_list)\n",
    "\n",
    "\n",
    "def check_pnl(marketdata: pd.DataFrame, positions: pd.DataFrame, y_list) -> None:\n",
    "    pnl = 0  # inital capital is 0 dollars\n",
    "    curpos = 0 # setting initial position to neutral\n",
    "    spread_cost = 0 # track total spread\n",
    "    \n",
    "    for index, row in marketdata.iterrows():\n",
    "        bid_price = row['bid_px_00'] / 1e-9\n",
    "        ask_price = row['ask_px_00'] / 1e-9\n",
    "        signal = positions.loc[index, 'POSITION'] # whether we buy or sell\n",
    "        \n",
    "        # calculate spread cost\n",
    "        spread = (ask_price - bid_price)/2\n",
    "        \n",
    "        #Note: You effectively trade at the midpoint at each time period, \n",
    "        #and are compensated for the spread when you both open and close a position. \n",
    "\n",
    "        # return to neutral\n",
    "        if curpos == -1:\n",
    "            pnl -= ask_price\n",
    "        elif curpos == 1:\n",
    "            pnl += bid_price\n",
    "        \n",
    "        # add spread\n",
    "        if curpos != 0:\n",
    "            spread_cost += spread\n",
    "\n",
    "        # perform trade\n",
    "        if signal == 1:\n",
    "            pnl -= ask_price\n",
    "        elif signal == -1:\n",
    "            pnl += bid_price\n",
    "        \n",
    "        # add spread\n",
    "        if signal != 0:\n",
    "            spread_cost += spread\n",
    "        \n",
    "        # update position\n",
    "        curpos = signal\n",
    "\n",
    "        \n",
    "        #Calculate PNL if we were to close - for graph\n",
    "        pnl_close=pnl\n",
    "        spread_close=spread_cost\n",
    "        \n",
    "        if curpos == -1:\n",
    "            pnl_close -= ask_price\n",
    "        elif curpos == 1:\n",
    "            pnl_close += bid_price\n",
    "        if curpos != 0:\n",
    "            spread_close += spread\n",
    "        \n",
    "        y_list.append(pnl_close+spread_close)\n",
    "\n",
    "    \n",
    "    # return to neutral\n",
    "    if curpos == -1:\n",
    "        pnl -= ask_price\n",
    "    elif curpos == 1:\n",
    "        pnl += bid_price\n",
    "    \n",
    "    # add spread\n",
    "    if curpos != 0:\n",
    "        spread_cost += spread\n",
    "\n",
    "    return (pnl + spread_cost)\n"
   ]
  },
  {
   "cell_type": "code",
   "execution_count": null,
   "metadata": {},
   "outputs": [],
   "source": [
    "pnl_on_day = []\n",
    "backtest(data, positions, pnl_on_day)\n"
   ]
  },
  {
   "cell_type": "code",
   "execution_count": null,
   "metadata": {},
   "outputs": [],
   "source": [
    "plt.plot(ts_recv, pnl_on_day)\n",
    "plt.title('Timestamps vs. PNL')\n",
    "plt.xlabel('Timestamps')\n",
    "plt.ylabel('PNL')"
   ]
  }
 ],
 "metadata": {
  "kernelspec": {
   "display_name": "Python 3",
   "language": "python",
   "name": "python3"
  },
  "language_info": {
   "codemirror_mode": {
    "name": "ipython",
    "version": 3
   },
   "file_extension": ".py",
   "mimetype": "text/x-python",
   "name": "python",
   "nbconvert_exporter": "python",
   "pygments_lexer": "ipython3",
   "version": "3.9.6"
  },
  "vscode": {
   "interpreter": {
    "hash": "31f2aee4e71d21fbe5cf8b01ff0e069b9275f58929596ceb00d14d90e3e16cd6"
   }
  }
 },
 "nbformat": 4,
 "nbformat_minor": 2
}
